{
  "nbformat": 4,
  "nbformat_minor": 0,
  "metadata": {
    "colab": {
      "name": "AnaliseExploradtoriaDio.ipynb",
      "private_outputs": true,
      "provenance": [],
      "collapsed_sections": []
    },
    "kernelspec": {
      "name": "python3",
      "display_name": "Python 3"
    },
    "language_info": {
      "name": "python"
    }
  },
  "cells": [
    {
      "cell_type": "code",
      "metadata": {
        "id": "qyAnbyIYk7Be"
      },
      "source": [
        "import pandas as pd\n",
        "import matplotlib.pyplot as plt\n",
        "import numpy as np\n",
        "plt.style.use(\"seaborn\")\n",
        "\n",
        "df = pd.read_excel('https://github.com/diasctiago/dio/blob/main/An%C3%A1lise%20de%20dados%20com%20Python%20e%20Pandas/AdventureWorks.xlsx?raw=true')"
      ],
      "execution_count": null,
      "outputs": []
    },
    {
      "cell_type": "code",
      "metadata": {
        "id": "nOROCV6mzJO2"
      },
      "source": [
        "df.head()"
      ],
      "execution_count": null,
      "outputs": []
    },
    {
      "cell_type": "code",
      "metadata": {
        "id": "xDYHYGUwzUqK"
      },
      "source": [
        "#Verificando o numero de linhas e colunas\n",
        "df.shape"
      ],
      "execution_count": null,
      "outputs": []
    },
    {
      "cell_type": "code",
      "metadata": {
        "id": "WSnUeopvzaq7"
      },
      "source": [
        "#Conhecendo os tipos de dados\n",
        "df.dtypes"
      ],
      "execution_count": null,
      "outputs": []
    },
    {
      "cell_type": "code",
      "metadata": {
        "id": "kk3XHBfkzrri"
      },
      "source": [
        "#Receita Total\n",
        "df[\"Valor Venda\"].sum()"
      ],
      "execution_count": null,
      "outputs": []
    },
    {
      "cell_type": "code",
      "metadata": {
        "id": "Mnp5MAEazymq"
      },
      "source": [
        "#Criando a coluna Custo Total\n",
        "df[\"custo\"] = df[\"Custo Unitário\"].mul(df[\"Quantidade\"]) "
      ],
      "execution_count": null,
      "outputs": []
    },
    {
      "cell_type": "code",
      "metadata": {
        "id": "YDl58ZGGz6A4"
      },
      "source": [
        "df.head(2)"
      ],
      "execution_count": null,
      "outputs": []
    },
    {
      "cell_type": "code",
      "metadata": {
        "id": "g7mCScbe0Kx-"
      },
      "source": [
        "#Criando a coluna Trimestre\n",
        "df['Trimestre'] =df['Data Venda'].dt.quarter\n",
        "df.head(2)"
      ],
      "execution_count": null,
      "outputs": []
    },
    {
      "cell_type": "code",
      "metadata": {
        "id": "_6LfEqZx0wg1"
      },
      "source": [
        "#Usando Lambd para criar a coluna semestre\n",
        "df['Semestre'] = df['Data Venda'].dt.month.apply(lambda x: 1 if x <= 5 else 2)\n",
        "df.head(2)"
      ],
      "execution_count": null,
      "outputs": []
    },
    {
      "cell_type": "code",
      "metadata": {
        "id": "cj63-NfJ1ESU"
      },
      "source": [
        "#Cria coluna Ano-Mes\n",
        "df['Ano_Mes'] = df['Data Venda'].dt.to_period('M').astype(str)"
      ],
      "execution_count": null,
      "outputs": []
    },
    {
      "cell_type": "code",
      "metadata": {
        "id": "qX4SJq961bHq"
      },
      "source": [
        "pip install pandera"
      ],
      "execution_count": null,
      "outputs": []
    },
    {
      "cell_type": "code",
      "metadata": {
        "id": "2Q-yqZt61pRR"
      },
      "source": [
        "#Verificando dados nulos\n",
        "df.isnull().sum()"
      ],
      "execution_count": null,
      "outputs": []
    },
    {
      "cell_type": "code",
      "metadata": {
        "id": "hiG_jpDW1ToS"
      },
      "source": [
        "#usando a biblioteca pandera para validar os dados \n",
        "import pandera as pa\n",
        "schema = pa.DataFrameSchema(columns={\n",
        "    \"Data Venda\":pa.Column(pa.DateTime),\n",
        "    \"Data Envio\":pa.Column(pa.DateTime),\n",
        "    \"Preço Unitário\":pa.Column(pa.Float64),\n",
        "    \"Quantidade\":pa.Column(pa.Int64),\n",
        "    \"Valor Venda\":pa.Column(pa.Float64)\n",
        "    })\n",
        "schema.validate(df)"
      ],
      "execution_count": null,
      "outputs": []
    },
    {
      "cell_type": "code",
      "metadata": {
        "id": "EJyWtp_f3PIT"
      },
      "source": [
        "\n",
        "#Criando a Coluna Lucro\n",
        "df[\"lucro\"] = df[\"Valor Venda\"] - df[\"custo\"]\n",
        "df.head(2)"
      ],
      "execution_count": null,
      "outputs": []
    },
    {
      "cell_type": "code",
      "metadata": {
        "id": "te2XfMhf3h_G"
      },
      "source": [
        "#Tempo Dias a Enviar Produto\n",
        "df[\"Tempo_envio\"] = df[\"Data Envio\"] - df[\"Data Venda\"]\n",
        "df[\"Tempo_envio\"].dtype\n",
        "df.head(2)"
      ],
      "execution_count": null,
      "outputs": []
    },
    {
      "cell_type": "code",
      "metadata": {
        "id": "imUSiAoo4iWW"
      },
      "source": [
        "#Mudando a Ordem das colunas do dataframe\n",
        "df2 = df\n",
        "df2 = df[['Data Venda','Data Envio','Tempo_envio','ID Loja','ID Produto', 'ID Cliente','No. Venda','Produto','Fabricante','Marca','Cor','Custo Unitário','Preço Unitário','Quantidade','Valor Desconto','Valor Venda', 'custo', 'lucro','Trimestre', 'Semestre','Ano_Mes']]\n",
        "df2.head(2)"
      ],
      "execution_count": null,
      "outputs": []
    },
    {
      "cell_type": "code",
      "metadata": {
        "id": "Wlf-hE-H7Cd0"
      },
      "source": [
        "#Qual o total de produtos vendidos?\n",
        "df.groupby(\"Produto\")[\"Quantidade\"].sum().sort_values(ascending=False)"
      ],
      "execution_count": null,
      "outputs": []
    },
    {
      "cell_type": "code",
      "metadata": {
        "id": "7Z0qPeTX7VPq"
      },
      "source": [
        "#Gráfico Total de produtos vendidos\n",
        "df.groupby(\"Produto\")[\"Quantidade\"].sum().sort_values(ascending=True).plot.barh(title=\"Total de Produtos Vendidos\")\n",
        "plt.xlabel(\"Total\")\n",
        "plt.ylabel(\"Produto\");"
      ],
      "execution_count": null,
      "outputs": []
    },
    {
      "cell_type": "code",
      "metadata": {
        "id": "hmpFbcMD7h8Z"
      },
      "source": [
        "#Grafico Lucro por Ano\n",
        "fig, ax = plt.subplots() \n",
        "df.groupby(df[\"Data Venda\"].dt.year)[\"lucro\"].sum().plot.bar(title=\"Lucro por Ano\")\n",
        "plt.xlabel(\"Ano\")\n",
        "plt.ylabel(\"Receita\");\n",
        "plt.xticks(rotation=45)\n"
      ],
      "execution_count": null,
      "outputs": []
    },
    {
      "cell_type": "code",
      "metadata": {
        "id": "ThMZjBm5_cfj"
      },
      "source": [
        "#Selecionando apenas as vendas de 2009\n",
        "df_2008 = df[df[\"Data Venda\"].dt.year == 2008]"
      ],
      "execution_count": null,
      "outputs": []
    },
    {
      "cell_type": "code",
      "metadata": {
        "id": "lLfH_vY0AcOy"
      },
      "source": [
        "df_2008.groupby(df_2008[\"Data Venda\"].dt.month)[\"lucro\"].sum().plot(title=\"Lucro por mês\")\n",
        "plt.xlabel(\"Mês\")\n",
        "plt.ylabel(\"Lucro\");"
      ],
      "execution_count": null,
      "outputs": []
    },
    {
      "cell_type": "code",
      "metadata": {
        "id": "K14KRbSqA2Dc"
      },
      "source": [
        "#Lucro 2008 por Classe\n",
        "df_2008.groupby(\"Classe\")[\"lucro\"].sum().plot.bar(title=\"Lucro por Classe\")\n",
        "plt.xlabel(\"Classe\")\n",
        "plt.ylabel(\"Lucro\")\n",
        "plt.xticks(rotation='horizontal');"
      ],
      "execution_count": null,
      "outputs": []
    },
    {
      "cell_type": "code",
      "metadata": {
        "id": "sVNcdurBAoNk"
      },
      "source": [
        "# Lucro por Marca\n",
        "df_2009 = df[df[\"Data Venda\"].dt.year == 2009]\n",
        "df_2009.groupby(\"Marca\")[\"lucro\"].sum().plot.bar(title=\"Lucro por Marca\")\n",
        "plt.xlabel(\"Marca\")\n",
        "plt.ylabel(\"Lucro\")\n",
        "plt.xticks(rotation='horizontal');"
      ],
      "execution_count": null,
      "outputs": []
    },
    {
      "cell_type": "code",
      "metadata": {
        "id": "EUEMVF0QBDqF"
      },
      "source": [
        "#Lucro 2009 por classe\n",
        "df_2009.groupby(\"Classe\")[\"lucro\"].sum().plot.bar(title=\"Lucro por Classe\")\n",
        "plt.xlabel(\"Classe\")\n",
        "plt.ylabel(\"Lucro\")\n",
        "plt.xticks(rotation='horizontal');"
      ],
      "execution_count": null,
      "outputs": []
    },
    {
      "cell_type": "code",
      "metadata": {
        "id": "IXrawQzYBRh6"
      },
      "source": [
        "#Gráfico de Boxplot para checa outliers\n",
        "plt.boxplot(df[\"Tempo_envio\"]);"
      ],
      "execution_count": null,
      "outputs": []
    }
  ]
}